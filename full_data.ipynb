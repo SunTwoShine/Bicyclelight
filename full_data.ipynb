{
 "cells": [
  {
   "cell_type": "markdown",
   "id": "abf0096e-85d9-4cbc-9bd9-560e1b1e9247",
   "metadata": {},
   "source": [
    "# Fahrräder mit oder ohne Licht"
   ]
  },
  {
   "cell_type": "code",
   "execution_count": null,
   "id": "36ffc213-4351-4711-a883-007fb5e368fd",
   "metadata": {},
   "outputs": [],
   "source": [
    "import pandas as pd\n",
    "import datetime as dt\n",
    "import matplotlib.pyplot as plt\n",
    "import numpy as np\n",
    "\n",
    "from astral import LocationInfo\n",
    "from astral.sun import sun"
   ]
  },
  {
   "cell_type": "markdown",
   "id": "7e6c7267-8dde-4db1-b64f-b2c97bbcae84",
   "metadata": {},
   "source": [
    "## Datenaufbereitung"
   ]
  },
  {
   "cell_type": "code",
   "execution_count": null,
   "id": "48791b45-a232-4ed6-b605-917f9e7eab35",
   "metadata": {},
   "outputs": [],
   "source": [
    "df = pd.read_csv('Fahrrad_Licht_ohneLicht_2021-04-03_a', delim_whitespace=True)\n",
    "df"
   ]
  },
  {
   "cell_type": "code",
   "execution_count": null,
   "id": "fbc172e3-8b14-45f1-9521-4e8619d09886",
   "metadata": {},
   "outputs": [],
   "source": [
    "#Behalten der Ursprungsdaten\n",
    "df2 = df.copy()"
   ]
  },
  {
   "cell_type": "code",
   "execution_count": null,
   "id": "35b25156-aee7-475f-9931-424670f4c6d4",
   "metadata": {},
   "outputs": [],
   "source": [
    "#Umbenennung der Spaltennamen in sinnvolle Bezeichnungen\n",
    "df2.rename(columns={'Fahrrad': 'Datum', 'Licht:ohne': 'Uhrzeit', 'Licht': 'mit_ohne'}, inplace=True)"
   ]
  },
  {
   "cell_type": "code",
   "execution_count": null,
   "id": "8d868e33-ea94-4a15-a7cb-5ff511638622",
   "metadata": {},
   "outputs": [],
   "source": [
    "#Entfernung des Häckchens und Ersetzung durch das Datum\n",
    "df2.loc[df2.Datum=='[✓]','Datum']=df2['Uhrzeit']"
   ]
  },
  {
   "cell_type": "code",
   "execution_count": null,
   "id": "88252a87-4154-4d7a-b894-d0f239779949",
   "metadata": {
    "tags": []
   },
   "outputs": [],
   "source": [
    "#Ersetzung des Datums in der Uhrzeit-Spalte durch die geplante Ankunfszeit\n",
    "for index, value in enumerate(df2.Uhrzeit):\n",
    "    if '2020' in value:\n",
    "        df2['Uhrzeit'].iloc[index] = '08:30:00'"
   ]
  },
  {
   "cell_type": "code",
   "execution_count": null,
   "id": "04ffb5ad-9fe4-4252-b35c-a83730ad3123",
   "metadata": {},
   "outputs": [],
   "source": [
    "#Trennung des Datums mit Uhrzeit aus 2020 in Datum und Uhrzeit\n",
    "for index, value in enumerate(df2.Datum):\n",
    "    if '-' in value:\n",
    "        df2['Uhrzeit'].iloc[index] = value[-8:]\n",
    "        df2['Datum'].iloc[index] = value[:10]"
   ]
  },
  {
   "cell_type": "code",
   "execution_count": null,
   "id": "3ea4c2ac-0e4d-4044-a184-3a406946c2de",
   "metadata": {},
   "outputs": [],
   "source": [
    "#Auftrennung der Spalte mit Licht und ohne Licht \n",
    "df2 = df2.join(df2['mit_ohne'].str.split(':', expand=True).rename(columns={0:'mit_Licht', 1:'ohne_Licht'}))"
   ]
  },
  {
   "cell_type": "code",
   "execution_count": null,
   "id": "090e1514-5221-4c72-b06f-b1d4e10ba2f0",
   "metadata": {},
   "outputs": [],
   "source": [
    "df2.info()"
   ]
  },
  {
   "cell_type": "code",
   "execution_count": null,
   "id": "2cb06ac7-40ee-472a-8469-f1c72cf5fd2c",
   "metadata": {},
   "outputs": [],
   "source": [
    "df2.describe()"
   ]
  },
  {
   "cell_type": "code",
   "execution_count": null,
   "id": "e4696966-c88e-4f29-9fd5-fcfdbb068c60",
   "metadata": {},
   "outputs": [],
   "source": [
    "df2['mit_Licht'] = pd.to_numeric(df2['mit_Licht'])\n",
    "df2['ohne_Licht'] = pd.to_numeric(df2['ohne_Licht'])\n",
    "df2['Datum'] = pd.to_datetime(df2['Datum'], format='%d/%m/%Y',errors='coerce').fillna(pd.to_datetime(df2['Datum'], format='%d.%m.%Y',errors='coerce'))\n",
    "#pd.to_datetime(s, format=\"%d%m%Y\", errors=\"coerce\").fillna(pd.to_datetime(s, format=\"%d%b%Y\", errors=\"coerce\"))\n",
    "df2['Uhrzeit'] = pd.to_datetime(df2['Uhrzeit'], format='%H:%M:%S').dt.time"
   ]
  },
  {
   "cell_type": "code",
   "execution_count": null,
   "id": "a4c75f12-6c7d-4cff-a4fa-058467218acf",
   "metadata": {},
   "outputs": [],
   "source": [
    "df2"
   ]
  },
  {
   "cell_type": "code",
   "execution_count": null,
   "id": "42b98959-1b47-4259-b871-e65884b81b69",
   "metadata": {},
   "outputs": [],
   "source": [
    "df2.info()"
   ]
  },
  {
   "cell_type": "markdown",
   "id": "2a8f9371-c41f-4634-ba27-727d7ce8cb9e",
   "metadata": {},
   "source": [
    "# Feature Engineering"
   ]
  },
  {
   "cell_type": "code",
   "execution_count": null,
   "id": "ed37cc64-ae91-47ba-b06e-8caa9731bbe8",
   "metadata": {},
   "outputs": [],
   "source": [
    "df2['Verhältnis'] = df2['ohne_Licht']/df2['mit_Licht']"
   ]
  },
  {
   "cell_type": "code",
   "execution_count": null,
   "id": "9d588d8e-d431-434f-81b0-a9d748c076e4",
   "metadata": {},
   "outputs": [],
   "source": [
    "df2['Summe'] = df2['ohne_Licht'] + df2['mit_Licht']"
   ]
  },
  {
   "cell_type": "code",
   "execution_count": null,
   "id": "8fe8ee6b-6201-4088-9b34-02ebd2acf93c",
   "metadata": {},
   "outputs": [],
   "source": [
    "df2"
   ]
  },
  {
   "cell_type": "markdown",
   "id": "d80bfc67-3450-45c7-940d-d6fd5b84412f",
   "metadata": {},
   "source": [
    "### Sonnenaufgang"
   ]
  },
  {
   "cell_type": "code",
   "execution_count": null,
   "id": "65cf6576-e8de-4dc2-806a-a47bdaa16b44",
   "metadata": {},
   "outputs": [],
   "source": [
    "#Berechnung des Sonnenaufgangs\n",
    "df2['Sonnenaufgang'] = ''\n",
    "city = LocationInfo(\"Karlsruhe\", \"Deutschland\", \"Europe/Berlin\", 49.006889, 8.403653)\n",
    "for index, value in enumerate(df2['Datum']):\n",
    "    #print(index)\n",
    "    s = sun(city.observer, date=value, tzinfo=city.timezone)\n",
    "    df2['Sonnenaufgang'][index+1] = s['sunrise']"
   ]
  },
  {
   "cell_type": "markdown",
   "id": "b9090f3e-03b9-4988-bb57-f57e1615ca90",
   "metadata": {},
   "source": [
    "## Diagramme"
   ]
  },
  {
   "cell_type": "code",
   "execution_count": null,
   "id": "05238e2a-113f-4a44-9640-8462e53b7232",
   "metadata": {},
   "outputs": [],
   "source": [
    "plt.plot('Datum', 'Verhältnis', data = df2)\n",
    "plt.show()"
   ]
  },
  {
   "cell_type": "code",
   "execution_count": null,
   "id": "8161e786-40f5-48b8-91d4-13569cb7c2c3",
   "metadata": {},
   "outputs": [],
   "source": [
    "plt.plot('Datum', 'Summe', data = df2)\n",
    "plt.show()"
   ]
  },
  {
   "cell_type": "code",
   "execution_count": null,
   "id": "a58a86da-279f-4556-9c10-41504e9463af",
   "metadata": {},
   "outputs": [],
   "source": []
  }
 ],
 "metadata": {
  "kernelspec": {
   "display_name": "Python 3 (ipykernel)",
   "language": "python",
   "name": "python3"
  },
  "language_info": {
   "codemirror_mode": {
    "name": "ipython",
    "version": 3
   },
   "file_extension": ".py",
   "mimetype": "text/x-python",
   "name": "python",
   "nbconvert_exporter": "python",
   "pygments_lexer": "ipython3",
   "version": "3.9.4"
  }
 },
 "nbformat": 4,
 "nbformat_minor": 5
}
