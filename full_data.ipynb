{
 "cells": [
  {
   "cell_type": "markdown",
   "id": "abf0096e-85d9-4cbc-9bd9-560e1b1e9247",
   "metadata": {},
   "source": [
    "# A small statistic on the use of bicycle-light in winter"
   ]
  },
  {
   "cell_type": "markdown",
   "id": "403f535c-8d2b-48cd-aa5a-5310c754d52a",
   "metadata": {},
   "source": [
    "The usage of bicycle light was studied on weekdays between 21.10.2020 and 08.03.2021.\n",
    "\n",
    "Area of the survey: Bicycle Path between Karlsruhe and Ettlingen/Bruchhausen in Germany\n",
    "\n",
    "Each morning, the bicycles with and without their lights on were counted manually by myself. The test route was always the same with a fixed starting and end point. There were little differences in time. The time of data collection was roughly between 8:00 am and 8:30 am, which is the time I needed for this trip by bicycle. The route is used by a lot of commuters, some bicycles were counted most days.\n",
    "\n",
    "Dates without data collection can be explained by: \n",
    "* Weekends\n",
    "* Holidays\n",
    "* Snow\n",
    "* Broken bicycle\n",
    "* Getting confused by too many bikes to count at once\n",
    "* Forgetting to count\n",
    "\n",
    "Difficulties collecting the data:\n",
    "* Bicycles with only one light on (back light or front light) were not considered, when noticed. Some cases like this might have been missed, therefore there might be cases in both groups.\n",
    "* Very dim light\n",
    "* Automatic light, which turns on when it is too dark, e.g. under a bridge\n",
    "* People seen several times"
   ]
  },
  {
   "cell_type": "code",
   "execution_count": 1,
   "id": "36ffc213-4351-4711-a883-007fb5e368fd",
   "metadata": {},
   "outputs": [],
   "source": [
    "import pandas as pd\n",
    "import datetime as dt\n",
    "import matplotlib.pyplot as plt\n",
    "import numpy as np\n",
    "\n",
    "from astral import LocationInfo\n",
    "from astral.sun import sun\n",
    "from pytz import timezone"
   ]
  },
  {
   "cell_type": "markdown",
   "id": "7e6c7267-8dde-4db1-b64f-b2c97bbcae84",
   "metadata": {},
   "source": [
    "## Preprocessing the data\n",
    "\n",
    "The data was collected manually. Around Christmas, the first part of data was transfered to the computer and marked as checked in the app used for data collection. The time of arrival was only collected for 2021, except for one day in 2020, were the arrival was a bit later than usual."
   ]
  },
  {
   "cell_type": "code",
   "execution_count": 2,
   "id": "48791b45-a232-4ed6-b605-917f9e7eab35",
   "metadata": {},
   "outputs": [
    {
     "data": {
      "text/html": [
       "<div>\n",
       "<style scoped>\n",
       "    .dataframe tbody tr th:only-of-type {\n",
       "        vertical-align: middle;\n",
       "    }\n",
       "\n",
       "    .dataframe tbody tr th {\n",
       "        vertical-align: top;\n",
       "    }\n",
       "\n",
       "    .dataframe thead th {\n",
       "        text-align: right;\n",
       "    }\n",
       "</style>\n",
       "<table border=\"1\" class=\"dataframe\">\n",
       "  <thead>\n",
       "    <tr style=\"text-align: right;\">\n",
       "      <th></th>\n",
       "      <th>Fahrrad</th>\n",
       "      <th>Licht:ohne</th>\n",
       "      <th>Licht</th>\n",
       "    </tr>\n",
       "  </thead>\n",
       "  <tbody>\n",
       "    <tr>\n",
       "      <th>1.0</th>\n",
       "      <td>08/03/2021</td>\n",
       "      <td>08:19:47</td>\n",
       "      <td>19:29</td>\n",
       "    </tr>\n",
       "    <tr>\n",
       "      <th>2.0</th>\n",
       "      <td>05/03/2021</td>\n",
       "      <td>08:31:26</td>\n",
       "      <td>23:13</td>\n",
       "    </tr>\n",
       "    <tr>\n",
       "      <th>3.0</th>\n",
       "      <td>04/03/2021</td>\n",
       "      <td>08:26:29</td>\n",
       "      <td>23:23</td>\n",
       "    </tr>\n",
       "    <tr>\n",
       "      <th>4.0</th>\n",
       "      <td>03/03/2021</td>\n",
       "      <td>08:31:40</td>\n",
       "      <td>21:31</td>\n",
       "    </tr>\n",
       "    <tr>\n",
       "      <th>5.0</th>\n",
       "      <td>02/03/2021</td>\n",
       "      <td>08:29:29</td>\n",
       "      <td>29:29</td>\n",
       "    </tr>\n",
       "    <tr>\n",
       "      <th>...</th>\n",
       "      <td>...</td>\n",
       "      <td>...</td>\n",
       "      <td>...</td>\n",
       "    </tr>\n",
       "    <tr>\n",
       "      <th>77.0</th>\n",
       "      <td>[✓]</td>\n",
       "      <td>27/10/2020</td>\n",
       "      <td>29:26</td>\n",
       "    </tr>\n",
       "    <tr>\n",
       "      <th>78.0</th>\n",
       "      <td>[✓]</td>\n",
       "      <td>26/10/2020</td>\n",
       "      <td>12:8</td>\n",
       "    </tr>\n",
       "    <tr>\n",
       "      <th>79.0</th>\n",
       "      <td>[✓]</td>\n",
       "      <td>23.10.2020</td>\n",
       "      <td>27:11</td>\n",
       "    </tr>\n",
       "    <tr>\n",
       "      <th>80.0</th>\n",
       "      <td>[✓]</td>\n",
       "      <td>22.10.2020</td>\n",
       "      <td>52:12</td>\n",
       "    </tr>\n",
       "    <tr>\n",
       "      <th>81.0</th>\n",
       "      <td>[✓]</td>\n",
       "      <td>21.10.2020</td>\n",
       "      <td>68:18</td>\n",
       "    </tr>\n",
       "  </tbody>\n",
       "</table>\n",
       "<p>81 rows × 3 columns</p>\n",
       "</div>"
      ],
      "text/plain": [
       "         Fahrrad  Licht:ohne  Licht\n",
       "1.0   08/03/2021    08:19:47  19:29\n",
       "2.0   05/03/2021    08:31:26  23:13\n",
       "3.0   04/03/2021    08:26:29  23:23\n",
       "4.0   03/03/2021    08:31:40  21:31\n",
       "5.0   02/03/2021    08:29:29  29:29\n",
       "...          ...         ...    ...\n",
       "77.0         [✓]  27/10/2020  29:26\n",
       "78.0         [✓]  26/10/2020   12:8\n",
       "79.0         [✓]  23.10.2020  27:11\n",
       "80.0         [✓]  22.10.2020  52:12\n",
       "81.0         [✓]  21.10.2020  68:18\n",
       "\n",
       "[81 rows x 3 columns]"
      ]
     },
     "execution_count": 2,
     "metadata": {},
     "output_type": "execute_result"
    }
   ],
   "source": [
    "df = pd.read_csv('data/Fahrrad_Licht_ohneLicht_2021-04-03_a', delim_whitespace=True)\n",
    "df"
   ]
  },
  {
   "cell_type": "code",
   "execution_count": 3,
   "id": "fbc172e3-8b14-45f1-9521-4e8619d09886",
   "metadata": {},
   "outputs": [],
   "source": [
    "# Copy of the data to keep the original as is\n",
    "df2 = df.copy()"
   ]
  },
  {
   "cell_type": "code",
   "execution_count": 4,
   "id": "35b25156-aee7-475f-9931-424670f4c6d4",
   "metadata": {},
   "outputs": [],
   "source": [
    "# Rename the columns\n",
    "df2.rename(columns={'Fahrrad': 'date', 'Licht:ohne': 'arrivaltime', 'Licht': 'with_without_light'}, inplace=True)"
   ]
  },
  {
   "cell_type": "code",
   "execution_count": 5,
   "id": "8d868e33-ea94-4a15-a7cb-5ff511638622",
   "metadata": {},
   "outputs": [],
   "source": [
    "# Fill the date column with the actual date\n",
    "df2.loc[df2.date=='[✓]','date']=df2['arrivaltime']"
   ]
  },
  {
   "cell_type": "code",
   "execution_count": 6,
   "id": "88252a87-4154-4d7a-b894-d0f239779949",
   "metadata": {
    "tags": []
   },
   "outputs": [],
   "source": [
    "# Replace the NAN-values in arrivaltime with the approximate arrival time 8:30.\n",
    "for index, value in enumerate(df2.arrivaltime):\n",
    "    if '2020' in value:\n",
    "        df2['arrivaltime'].iloc[index] = '08:30:00'"
   ]
  },
  {
   "cell_type": "code",
   "execution_count": 7,
   "id": "04ffb5ad-9fe4-4252-b35c-a83730ad3123",
   "metadata": {},
   "outputs": [],
   "source": [
    "# Split the date and arrivaltime\n",
    "for index, value in enumerate(df2.date):\n",
    "    if '-' in value:\n",
    "        df2['arrivaltime'].iloc[index] = value[-8:]\n",
    "        df2['date'].iloc[index] = value[:10]"
   ]
  },
  {
   "cell_type": "code",
   "execution_count": 8,
   "id": "3ea4c2ac-0e4d-4044-a184-3a406946c2de",
   "metadata": {},
   "outputs": [],
   "source": [
    "# Split the Column with_without_light into two columns \n",
    "df2 = df2.join(df2['with_without_light'].str.split(':', expand=True).rename(columns={0:'with_light', 1:'without_light'}))"
   ]
  },
  {
   "cell_type": "code",
   "execution_count": 9,
   "id": "e4696966-c88e-4f29-9fd5-fcfdbb068c60",
   "metadata": {},
   "outputs": [],
   "source": [
    "# Change data types\n",
    "df2['with_light'] = pd.to_numeric(df2['with_light'])\n",
    "df2['without_light'] = pd.to_numeric(df2['without_light'])\n",
    "df2['date'] = pd.to_datetime(df2['date'], format='%d/%m/%Y',\n",
    "                              errors='coerce').fillna(pd.to_datetime(df2['date'], \n",
    "                                                                     format='%d.%m.%Y',errors='coerce'))\n",
    "df2['arrivaltime'] = pd.to_datetime(df2['arrivaltime'], format='%H:%M:%S').dt.time"
   ]
  },
  {
   "cell_type": "code",
   "execution_count": 10,
   "id": "a4c75f12-6c7d-4cff-a4fa-058467218acf",
   "metadata": {},
   "outputs": [
    {
     "data": {
      "text/html": [
       "<div>\n",
       "<style scoped>\n",
       "    .dataframe tbody tr th:only-of-type {\n",
       "        vertical-align: middle;\n",
       "    }\n",
       "\n",
       "    .dataframe tbody tr th {\n",
       "        vertical-align: top;\n",
       "    }\n",
       "\n",
       "    .dataframe thead th {\n",
       "        text-align: right;\n",
       "    }\n",
       "</style>\n",
       "<table border=\"1\" class=\"dataframe\">\n",
       "  <thead>\n",
       "    <tr style=\"text-align: right;\">\n",
       "      <th></th>\n",
       "      <th>date</th>\n",
       "      <th>arrivaltime</th>\n",
       "      <th>with_without_light</th>\n",
       "      <th>with_light</th>\n",
       "      <th>without_light</th>\n",
       "    </tr>\n",
       "  </thead>\n",
       "  <tbody>\n",
       "    <tr>\n",
       "      <th>1.0</th>\n",
       "      <td>2021-03-08</td>\n",
       "      <td>08:19:47</td>\n",
       "      <td>19:29</td>\n",
       "      <td>19</td>\n",
       "      <td>29</td>\n",
       "    </tr>\n",
       "    <tr>\n",
       "      <th>2.0</th>\n",
       "      <td>2021-03-05</td>\n",
       "      <td>08:31:26</td>\n",
       "      <td>23:13</td>\n",
       "      <td>23</td>\n",
       "      <td>13</td>\n",
       "    </tr>\n",
       "    <tr>\n",
       "      <th>3.0</th>\n",
       "      <td>2021-03-04</td>\n",
       "      <td>08:26:29</td>\n",
       "      <td>23:23</td>\n",
       "      <td>23</td>\n",
       "      <td>23</td>\n",
       "    </tr>\n",
       "    <tr>\n",
       "      <th>4.0</th>\n",
       "      <td>2021-03-03</td>\n",
       "      <td>08:31:40</td>\n",
       "      <td>21:31</td>\n",
       "      <td>21</td>\n",
       "      <td>31</td>\n",
       "    </tr>\n",
       "    <tr>\n",
       "      <th>5.0</th>\n",
       "      <td>2021-03-02</td>\n",
       "      <td>08:29:29</td>\n",
       "      <td>29:29</td>\n",
       "      <td>29</td>\n",
       "      <td>29</td>\n",
       "    </tr>\n",
       "    <tr>\n",
       "      <th>...</th>\n",
       "      <td>...</td>\n",
       "      <td>...</td>\n",
       "      <td>...</td>\n",
       "      <td>...</td>\n",
       "      <td>...</td>\n",
       "    </tr>\n",
       "    <tr>\n",
       "      <th>77.0</th>\n",
       "      <td>2020-10-27</td>\n",
       "      <td>08:30:00</td>\n",
       "      <td>29:26</td>\n",
       "      <td>29</td>\n",
       "      <td>26</td>\n",
       "    </tr>\n",
       "    <tr>\n",
       "      <th>78.0</th>\n",
       "      <td>2020-10-26</td>\n",
       "      <td>08:30:00</td>\n",
       "      <td>12:8</td>\n",
       "      <td>12</td>\n",
       "      <td>8</td>\n",
       "    </tr>\n",
       "    <tr>\n",
       "      <th>79.0</th>\n",
       "      <td>2020-10-23</td>\n",
       "      <td>08:30:00</td>\n",
       "      <td>27:11</td>\n",
       "      <td>27</td>\n",
       "      <td>11</td>\n",
       "    </tr>\n",
       "    <tr>\n",
       "      <th>80.0</th>\n",
       "      <td>2020-10-22</td>\n",
       "      <td>08:30:00</td>\n",
       "      <td>52:12</td>\n",
       "      <td>52</td>\n",
       "      <td>12</td>\n",
       "    </tr>\n",
       "    <tr>\n",
       "      <th>81.0</th>\n",
       "      <td>2020-10-21</td>\n",
       "      <td>08:30:00</td>\n",
       "      <td>68:18</td>\n",
       "      <td>68</td>\n",
       "      <td>18</td>\n",
       "    </tr>\n",
       "  </tbody>\n",
       "</table>\n",
       "<p>81 rows × 5 columns</p>\n",
       "</div>"
      ],
      "text/plain": [
       "           date arrivaltime with_without_light  with_light  without_light\n",
       "1.0  2021-03-08    08:19:47              19:29          19             29\n",
       "2.0  2021-03-05    08:31:26              23:13          23             13\n",
       "3.0  2021-03-04    08:26:29              23:23          23             23\n",
       "4.0  2021-03-03    08:31:40              21:31          21             31\n",
       "5.0  2021-03-02    08:29:29              29:29          29             29\n",
       "...         ...         ...                ...         ...            ...\n",
       "77.0 2020-10-27    08:30:00              29:26          29             26\n",
       "78.0 2020-10-26    08:30:00               12:8          12              8\n",
       "79.0 2020-10-23    08:30:00              27:11          27             11\n",
       "80.0 2020-10-22    08:30:00              52:12          52             12\n",
       "81.0 2020-10-21    08:30:00              68:18          68             18\n",
       "\n",
       "[81 rows x 5 columns]"
      ]
     },
     "execution_count": 10,
     "metadata": {},
     "output_type": "execute_result"
    }
   ],
   "source": [
    "df2"
   ]
  },
  {
   "cell_type": "code",
   "execution_count": 11,
   "id": "42b98959-1b47-4259-b871-e65884b81b69",
   "metadata": {},
   "outputs": [
    {
     "name": "stdout",
     "output_type": "stream",
     "text": [
      "<class 'pandas.core.frame.DataFrame'>\n",
      "Float64Index: 81 entries, 1.0 to 81.0\n",
      "Data columns (total 5 columns):\n",
      " #   Column              Non-Null Count  Dtype         \n",
      "---  ------              --------------  -----         \n",
      " 0   date                81 non-null     datetime64[ns]\n",
      " 1   arrivaltime         81 non-null     object        \n",
      " 2   with_without_light  81 non-null     object        \n",
      " 3   with_light          81 non-null     int64         \n",
      " 4   without_light       81 non-null     int64         \n",
      "dtypes: datetime64[ns](1), int64(2), object(2)\n",
      "memory usage: 5.9+ KB\n"
     ]
    }
   ],
   "source": [
    "df2.info()"
   ]
  },
  {
   "cell_type": "code",
   "execution_count": 12,
   "id": "2cb06ac7-40ee-472a-8469-f1c72cf5fd2c",
   "metadata": {},
   "outputs": [
    {
     "data": {
      "text/html": [
       "<div>\n",
       "<style scoped>\n",
       "    .dataframe tbody tr th:only-of-type {\n",
       "        vertical-align: middle;\n",
       "    }\n",
       "\n",
       "    .dataframe tbody tr th {\n",
       "        vertical-align: top;\n",
       "    }\n",
       "\n",
       "    .dataframe thead th {\n",
       "        text-align: right;\n",
       "    }\n",
       "</style>\n",
       "<table border=\"1\" class=\"dataframe\">\n",
       "  <thead>\n",
       "    <tr style=\"text-align: right;\">\n",
       "      <th></th>\n",
       "      <th>with_light</th>\n",
       "      <th>without_light</th>\n",
       "    </tr>\n",
       "  </thead>\n",
       "  <tbody>\n",
       "    <tr>\n",
       "      <th>count</th>\n",
       "      <td>81.000000</td>\n",
       "      <td>81.000000</td>\n",
       "    </tr>\n",
       "    <tr>\n",
       "      <th>mean</th>\n",
       "      <td>29.172840</td>\n",
       "      <td>12.925926</td>\n",
       "    </tr>\n",
       "    <tr>\n",
       "      <th>std</th>\n",
       "      <td>10.771247</td>\n",
       "      <td>10.567376</td>\n",
       "    </tr>\n",
       "    <tr>\n",
       "      <th>min</th>\n",
       "      <td>5.000000</td>\n",
       "      <td>0.000000</td>\n",
       "    </tr>\n",
       "    <tr>\n",
       "      <th>25%</th>\n",
       "      <td>22.000000</td>\n",
       "      <td>4.000000</td>\n",
       "    </tr>\n",
       "    <tr>\n",
       "      <th>50%</th>\n",
       "      <td>28.000000</td>\n",
       "      <td>10.000000</td>\n",
       "    </tr>\n",
       "    <tr>\n",
       "      <th>75%</th>\n",
       "      <td>37.000000</td>\n",
       "      <td>23.000000</td>\n",
       "    </tr>\n",
       "    <tr>\n",
       "      <th>max</th>\n",
       "      <td>68.000000</td>\n",
       "      <td>39.000000</td>\n",
       "    </tr>\n",
       "  </tbody>\n",
       "</table>\n",
       "</div>"
      ],
      "text/plain": [
       "       with_light  without_light\n",
       "count   81.000000      81.000000\n",
       "mean    29.172840      12.925926\n",
       "std     10.771247      10.567376\n",
       "min      5.000000       0.000000\n",
       "25%     22.000000       4.000000\n",
       "50%     28.000000      10.000000\n",
       "75%     37.000000      23.000000\n",
       "max     68.000000      39.000000"
      ]
     },
     "execution_count": 12,
     "metadata": {},
     "output_type": "execute_result"
    }
   ],
   "source": [
    "df2.describe()"
   ]
  },
  {
   "cell_type": "markdown",
   "id": "2a8f9371-c41f-4634-ba27-727d7ce8cb9e",
   "metadata": {},
   "source": [
    "# Feature Engineering"
   ]
  },
  {
   "cell_type": "code",
   "execution_count": 13,
   "id": "9d588d8e-d431-434f-81b0-a9d748c076e4",
   "metadata": {},
   "outputs": [],
   "source": [
    "# Calculate the sum of bicycles and the ratio of bicycles with light and without\n",
    "df2['sum'] = df2['without_light'] + df2['with_light']\n",
    "df2['ratio'] = df2['without_light']/df2['sum']"
   ]
  },
  {
   "cell_type": "markdown",
   "id": "d80bfc67-3450-45c7-940d-d6fd5b84412f",
   "metadata": {},
   "source": [
    "### Calculate difference between sunrise and arrivaltime"
   ]
  },
  {
   "cell_type": "code",
   "execution_count": 14,
   "id": "65cf6576-e8de-4dc2-806a-a47bdaa16b44",
   "metadata": {},
   "outputs": [],
   "source": [
    "# Calculation of sunrise in Karlsruhe, Germany\n",
    "df2['sunrise'] = ''\n",
    "colindex = df2.columns.get_loc(\"sunrise\")\n",
    "city = LocationInfo(\"Karlsruhe\", \"Deutschland\", \"Europe/Berlin\", 49.006889, 8.403653)\n",
    "for index, value in enumerate(df2['date']):\n",
    "    s = sun(city.observer, date=value, tzinfo=city.timezone)\n",
    "    df2.iloc[index, colindex] = s['sunrise']"
   ]
  },
  {
   "cell_type": "code",
   "execution_count": 15,
   "id": "6b4ca2c6-caa3-430f-92a7-fb55f1695f0f",
   "metadata": {},
   "outputs": [],
   "source": [
    "# Removal of timezone from sunrise to allow comparison with arrivaltime\n",
    "df2['sunrise_without_timezone'] = ''\n",
    "col_sunrise_wo_tz = df2.columns.get_loc(\"sunrise_without_timezone\")\n",
    "col_sunrise = df2.columns.get_loc(\"sunrise\")\n",
    "\n",
    "# Combine date and time of arrival to allow comparison with sunrise\n",
    "df2['arrival_datetime'] = ''\n",
    "col_arrival_datetime = df2.columns.get_loc(\"arrival_datetime\")\n",
    "for index in range(len(df2['date'])):\n",
    "    # Remove timezone\n",
    "    df2.iloc[index, col_sunrise_wo_tz] = df2.iloc[index, col_sunrise].replace(tzinfo=None)\n",
    "    # Combine date and time of arrival\n",
    "    df2.iloc[index, col_arrival_datetime] = dt.datetime.combine(df2.iloc[index, 0], df2.iloc[index, 1])"
   ]
  },
  {
   "cell_type": "code",
   "execution_count": 16,
   "id": "9386913a-3492-4cb9-89a2-986d88917e9a",
   "metadata": {
    "tags": []
   },
   "outputs": [],
   "source": [
    "# Difference between time of arrival and sunrise\n",
    "df2['sunrise_to_arrival'] = (df2['arrival_datetime'] - df2['sunrise_without_timezone'])"
   ]
  },
  {
   "cell_type": "code",
   "execution_count": 17,
   "id": "b76c9a57-c1b8-4010-aca2-60fccad996f2",
   "metadata": {},
   "outputs": [],
   "source": [
    "# Calender week and weekday\n",
    "df2['week'] = ''\n",
    "df2['day'] = ''\n",
    "col_week = df2.columns.get_loc(\"week\")\n",
    "col_day = df2.columns.get_loc(\"day\")\n",
    "for index in range(len(df2['date'])):\n",
    "    df2.iloc[index, col_week] = df2.iloc[index,0].isocalendar()[1]\n",
    "    df2.iloc[index, col_day] = df2.iloc[index,0].isocalendar()[2]"
   ]
  },
  {
   "cell_type": "code",
   "execution_count": 18,
   "id": "cad61059-4266-43ee-a652-cedd59e778d1",
   "metadata": {},
   "outputs": [
    {
     "data": {
      "text/html": [
       "<div>\n",
       "<style scoped>\n",
       "    .dataframe tbody tr th:only-of-type {\n",
       "        vertical-align: middle;\n",
       "    }\n",
       "\n",
       "    .dataframe tbody tr th {\n",
       "        vertical-align: top;\n",
       "    }\n",
       "\n",
       "    .dataframe thead th {\n",
       "        text-align: right;\n",
       "    }\n",
       "</style>\n",
       "<table border=\"1\" class=\"dataframe\">\n",
       "  <thead>\n",
       "    <tr style=\"text-align: right;\">\n",
       "      <th></th>\n",
       "      <th>date</th>\n",
       "      <th>arrivaltime</th>\n",
       "      <th>with_without_light</th>\n",
       "      <th>with_light</th>\n",
       "      <th>without_light</th>\n",
       "      <th>sum</th>\n",
       "      <th>ratio</th>\n",
       "      <th>sunrise</th>\n",
       "      <th>sunrise_without_timezone</th>\n",
       "      <th>arrival_datetime</th>\n",
       "      <th>sunrise_to_arrival</th>\n",
       "      <th>week</th>\n",
       "      <th>day</th>\n",
       "    </tr>\n",
       "  </thead>\n",
       "  <tbody>\n",
       "    <tr>\n",
       "      <th>1.0</th>\n",
       "      <td>2021-03-08</td>\n",
       "      <td>08:19:47</td>\n",
       "      <td>19:29</td>\n",
       "      <td>19</td>\n",
       "      <td>29</td>\n",
       "      <td>48</td>\n",
       "      <td>0.604167</td>\n",
       "      <td>2021-03-08 06:54:25.579966+01:00</td>\n",
       "      <td>2021-03-08 06:54:25.579966</td>\n",
       "      <td>2021-03-08 08:19:47</td>\n",
       "      <td>0 days 01:25:21.420034</td>\n",
       "      <td>10</td>\n",
       "      <td>1</td>\n",
       "    </tr>\n",
       "    <tr>\n",
       "      <th>2.0</th>\n",
       "      <td>2021-03-05</td>\n",
       "      <td>08:31:26</td>\n",
       "      <td>23:13</td>\n",
       "      <td>23</td>\n",
       "      <td>13</td>\n",
       "      <td>36</td>\n",
       "      <td>0.361111</td>\n",
       "      <td>2021-03-05 07:00:33.426453+01:00</td>\n",
       "      <td>2021-03-05 07:00:33.426453</td>\n",
       "      <td>2021-03-05 08:31:26</td>\n",
       "      <td>0 days 01:30:52.573547</td>\n",
       "      <td>9</td>\n",
       "      <td>5</td>\n",
       "    </tr>\n",
       "    <tr>\n",
       "      <th>3.0</th>\n",
       "      <td>2021-03-04</td>\n",
       "      <td>08:26:29</td>\n",
       "      <td>23:23</td>\n",
       "      <td>23</td>\n",
       "      <td>23</td>\n",
       "      <td>46</td>\n",
       "      <td>0.500000</td>\n",
       "      <td>2021-03-04 07:02:34.930661+01:00</td>\n",
       "      <td>2021-03-04 07:02:34.930661</td>\n",
       "      <td>2021-03-04 08:26:29</td>\n",
       "      <td>0 days 01:23:54.069339</td>\n",
       "      <td>9</td>\n",
       "      <td>4</td>\n",
       "    </tr>\n",
       "    <tr>\n",
       "      <th>4.0</th>\n",
       "      <td>2021-03-03</td>\n",
       "      <td>08:31:40</td>\n",
       "      <td>21:31</td>\n",
       "      <td>21</td>\n",
       "      <td>31</td>\n",
       "      <td>52</td>\n",
       "      <td>0.596154</td>\n",
       "      <td>2021-03-03 07:04:35.821162+01:00</td>\n",
       "      <td>2021-03-03 07:04:35.821162</td>\n",
       "      <td>2021-03-03 08:31:40</td>\n",
       "      <td>0 days 01:27:04.178838</td>\n",
       "      <td>9</td>\n",
       "      <td>3</td>\n",
       "    </tr>\n",
       "    <tr>\n",
       "      <th>5.0</th>\n",
       "      <td>2021-03-02</td>\n",
       "      <td>08:29:29</td>\n",
       "      <td>29:29</td>\n",
       "      <td>29</td>\n",
       "      <td>29</td>\n",
       "      <td>58</td>\n",
       "      <td>0.500000</td>\n",
       "      <td>2021-03-02 07:06:36.062514+01:00</td>\n",
       "      <td>2021-03-02 07:06:36.062514</td>\n",
       "      <td>2021-03-02 08:29:29</td>\n",
       "      <td>0 days 01:22:52.937486</td>\n",
       "      <td>9</td>\n",
       "      <td>2</td>\n",
       "    </tr>\n",
       "  </tbody>\n",
       "</table>\n",
       "</div>"
      ],
      "text/plain": [
       "          date arrivaltime with_without_light  with_light  without_light  sum  \\\n",
       "1.0 2021-03-08    08:19:47              19:29          19             29   48   \n",
       "2.0 2021-03-05    08:31:26              23:13          23             13   36   \n",
       "3.0 2021-03-04    08:26:29              23:23          23             23   46   \n",
       "4.0 2021-03-03    08:31:40              21:31          21             31   52   \n",
       "5.0 2021-03-02    08:29:29              29:29          29             29   58   \n",
       "\n",
       "        ratio                           sunrise    sunrise_without_timezone  \\\n",
       "1.0  0.604167  2021-03-08 06:54:25.579966+01:00  2021-03-08 06:54:25.579966   \n",
       "2.0  0.361111  2021-03-05 07:00:33.426453+01:00  2021-03-05 07:00:33.426453   \n",
       "3.0  0.500000  2021-03-04 07:02:34.930661+01:00  2021-03-04 07:02:34.930661   \n",
       "4.0  0.596154  2021-03-03 07:04:35.821162+01:00  2021-03-03 07:04:35.821162   \n",
       "5.0  0.500000  2021-03-02 07:06:36.062514+01:00  2021-03-02 07:06:36.062514   \n",
       "\n",
       "        arrival_datetime     sunrise_to_arrival week day  \n",
       "1.0  2021-03-08 08:19:47 0 days 01:25:21.420034   10   1  \n",
       "2.0  2021-03-05 08:31:26 0 days 01:30:52.573547    9   5  \n",
       "3.0  2021-03-04 08:26:29 0 days 01:23:54.069339    9   4  \n",
       "4.0  2021-03-03 08:31:40 0 days 01:27:04.178838    9   3  \n",
       "5.0  2021-03-02 08:29:29 0 days 01:22:52.937486    9   2  "
      ]
     },
     "execution_count": 18,
     "metadata": {},
     "output_type": "execute_result"
    }
   ],
   "source": [
    "df2.head()"
   ]
  },
  {
   "cell_type": "markdown",
   "id": "b9090f3e-03b9-4988-bb57-f57e1615ca90",
   "metadata": {},
   "source": [
    "## Diagrams"
   ]
  },
  {
   "cell_type": "code",
   "execution_count": 19,
   "id": "05238e2a-113f-4a44-9640-8462e53b7232",
   "metadata": {},
   "outputs": [
    {
     "data": {
      "image/png": "[encoded data removed]",
      "text/plain": [
       "<Figure size 432x288 with 2 Axes>"
      ]
     },
     "metadata": {
      "needs_background": "light"
     },
     "output_type": "display_data"
    }
   ],
   "source": [
    "fig, ax1 = plt.subplots()\n",
    "\n",
    "ax2 = ax1.twinx()\n",
    "ax1.plot('date', 'ratio', data = df2, color='blue')\n",
    "ax2.plot('date', 'sunrise_to_arrival', data = df2, color='red')\n",
    "\n",
    "fig.suptitle('Percentage of bicycles without lights on compared to sunrise', fontsize=12)\n",
    "ax1.set_xlabel('Date', fontsize=10)\n",
    "ax1.set_ylabel('Percentage without light', fontsize=10, color='blue')\n",
    "ax2.set_ylabel('Difference of sunrise to arrivaltime', fontsize=10, color='red')\n",
    "\n",
    "plt.show()"
   ]
  },
  {
   "cell_type": "code",
   "execution_count": 20,
   "id": "8161e786-40f5-48b8-91d4-13569cb7c2c3",
   "metadata": {},
   "outputs": [
    {
     "data": {
      "image/png": "[encoded data removed]",
      "text/plain": [
       "<Figure size 432x288 with 1 Axes>"
      ]
     },
     "metadata": {
      "needs_background": "light"
     },
     "output_type": "display_data"
    }
   ],
   "source": [
    "fig, ax = plt.subplots()\n",
    "ax.plot('date', 'sum', data = df2)\n",
    "\n",
    "fig.suptitle('Total of bicycles', fontsize=12)\n",
    "ax.set_xlabel('Date', fontsize=10)\n",
    "ax.set_ylabel('Bicycles', fontsize=10)\n",
    "\n",
    "plt.show()"
   ]
  },
  {
   "cell_type": "code",
   "execution_count": 21,
   "id": "fb8f8717-bfa7-4c07-a4f4-1130e6727223",
   "metadata": {},
   "outputs": [
    {
     "data": {
      "image/png": "[encoded data removed]",
      "text/plain": [
       "<Figure size 432x288 with 1 Axes>"
      ]
     },
     "metadata": {
      "needs_background": "light"
     },
     "output_type": "display_data"
    }
   ],
   "source": [
    "week_ratio = df2.groupby(['week']).mean()['ratio']\n",
    "\n",
    "fig, ax = plt.subplots()\n",
    "ax.plot(week_ratio)\n",
    "\n",
    "fig.suptitle('Percentage of bicycles without lights on', fontsize=12)\n",
    "ax.set_xlabel('Week', fontsize=10)\n",
    "ax.set_ylabel('Percentage without light', fontsize=10)\n",
    "\n",
    "plt.show()"
   ]
  },
  {
   "cell_type": "code",
   "execution_count": 22,
   "id": "674a6db0-fbe2-4859-aeb3-6b17b72aaac4",
   "metadata": {},
   "outputs": [
    {
     "data": {
      "image/png": "[encoded data removed]",
      "text/plain": [
       "<Figure size 432x288 with 1 Axes>"
      ]
     },
     "metadata": {
      "needs_background": "light"
     },
     "output_type": "display_data"
    }
   ],
   "source": [
    "day_ratio = df2.groupby(['day']).mean()['ratio']\n",
    "\n",
    "fig, ax = plt.subplots()\n",
    "ax.plot(day_ratio)\n",
    "\n",
    "fig.suptitle('Percentage of bicycles without lights on', fontsize=12)\n",
    "ax.set_xlabel('Day of the week', fontsize=10)\n",
    "ax.set_ylabel('Percentage without light', fontsize=10)\n",
    "\n",
    "plt.show()"
   ]
  },
  {
   "cell_type": "code",
   "execution_count": 23,
   "id": "c93fc465-2449-41aa-9d81-d8a1b3ac90a9",
   "metadata": {},
   "outputs": [
    {
     "data": {
      "image/png": "[encoded data removed]",
      "text/plain": [
       "<Figure size 432x288 with 1 Axes>"
      ]
     },
     "metadata": {
      "needs_background": "light"
     },
     "output_type": "display_data"
    }
   ],
   "source": [
    "day_sum = df2.groupby(['day']).mean()['sum']\n",
    "\n",
    "fig, ax = plt.subplots()\n",
    "ax.plot(day_sum)\n",
    "\n",
    "fig.suptitle('Total of bicycles', fontsize=12)\n",
    "ax.set_xlabel('Day of the week', fontsize=10)\n",
    "ax.set_ylabel('Bicycles', fontsize=10)\n",
    "\n",
    "plt.show()"
   ]
  },
  {
   "cell_type": "code",
   "execution_count": null,
   "id": "0a3d8897-aa58-465f-bbdf-a7c3b003219b",
   "metadata": {},
   "outputs": [],
   "source": []
  }
 ],
 "metadata": {
  "kernelspec": {
   "display_name": "Python 3 (ipykernel)",
   "language": "python",
   "name": "python3"
  },
  "language_info": {
   "codemirror_mode": {
    "name": "ipython",
    "version": 3
   },
   "file_extension": ".py",
   "mimetype": "text/x-python",
   "name": "python",
   "nbconvert_exporter": "python",
   "pygments_lexer": "ipython3",
   "version": "3.9.4"
  }
 },
 "nbformat": 4,
 "nbformat_minor": 5
}
